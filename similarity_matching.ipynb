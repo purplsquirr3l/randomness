{
 "cells": [
  {
   "cell_type": "code",
   "execution_count": 1,
   "metadata": {},
   "outputs": [],
   "source": [
    "import pandas as pd"
   ]
  },
  {
   "cell_type": "markdown",
   "metadata": {},
   "source": [
    "## Make data"
   ]
  },
  {
   "cell_type": "code",
   "execution_count": 29,
   "metadata": {},
   "outputs": [],
   "source": [
    "lists = [[5,6],[4,5,6,7],[5],[4,5,7],[0,1,2,3],[0,3],[2,3],[1]]\n",
    "tuples = [[(4,1),(5,1),(6,2)],[(4,2)],[(4,3),(5,1)],[(4,1),(5,1),(7,2)],[(0,1)],[(0,1),(1,2),(3,2)],\\\n",
    "          [(0,1),(1,1),(2,1),(3,1)],[(2,2),(3,2)]]\n",
    "\n",
    "df = pd.DataFrame({'apptype': ['e','e', 'e', 'e', 'o', 'o', 'o', 'o'], 'grade': lists, 'gender': lists, 'mc': lists, \\\n",
    "                   'mch': [[5,6],[5,6,7],[5],[4,5,7],[0,1,3],[0,3],[2,3],[1]], 'occ': lists, 'travel': lists, \\\n",
    "                   'virtual': [[5,6],[4,5,6,7],[5],[4,5,7],[0,1,2,3],[0,3],[3],[1]], 'type': lists, 'ambition': tuples, \\\n",
    "                   'freetext': [[(4,0),(5,0),(6,0),(7,0)],[(4,0),(5,0),(6,0),(7,0)],[(4,0),(5,0),(6,0),(7,0)],\\\n",
    "                                [(4,0),(5,0),(6,0),(7,0)],[(0,1),(1,0.1),(2,-.8),(3,-.2)],[(0,0),(1,0),(2,0),(3,.25)],\\\n",
    "                                [(0,1),(1,.1),(2,-.8),(3,.2)],[(0,0),(1,0),(2,0),(3,.2)]]})"
   ]
  },
  {
   "cell_type": "code",
   "execution_count": 30,
   "metadata": {},
   "outputs": [
    {
     "data": {
      "text/html": [
       "<div>\n",
       "<style>\n",
       "    .dataframe thead tr:only-child th {\n",
       "        text-align: right;\n",
       "    }\n",
       "\n",
       "    .dataframe thead th {\n",
       "        text-align: left;\n",
       "    }\n",
       "\n",
       "    .dataframe tbody tr th {\n",
       "        vertical-align: top;\n",
       "    }\n",
       "</style>\n",
       "<table border=\"1\" class=\"dataframe\">\n",
       "  <thead>\n",
       "    <tr style=\"text-align: right;\">\n",
       "      <th></th>\n",
       "      <th>ambition</th>\n",
       "      <th>apptype</th>\n",
       "      <th>freetext</th>\n",
       "      <th>gender</th>\n",
       "      <th>grade</th>\n",
       "      <th>mc</th>\n",
       "      <th>mch</th>\n",
       "      <th>occ</th>\n",
       "      <th>travel</th>\n",
       "      <th>type</th>\n",
       "      <th>virtual</th>\n",
       "    </tr>\n",
       "  </thead>\n",
       "  <tbody>\n",
       "    <tr>\n",
       "      <th>0</th>\n",
       "      <td>[(4, 1), (5, 1), (6, 2)]</td>\n",
       "      <td>e</td>\n",
       "      <td>[(4, 0), (5, 0), (6, 0), (7, 0)]</td>\n",
       "      <td>[5, 6]</td>\n",
       "      <td>[5, 6]</td>\n",
       "      <td>[5, 6]</td>\n",
       "      <td>[5, 6]</td>\n",
       "      <td>[5, 6]</td>\n",
       "      <td>[5, 6]</td>\n",
       "      <td>[5, 6]</td>\n",
       "      <td>[5, 6]</td>\n",
       "    </tr>\n",
       "    <tr>\n",
       "      <th>1</th>\n",
       "      <td>[(4, 2)]</td>\n",
       "      <td>e</td>\n",
       "      <td>[(4, 0), (5, 0), (6, 0), (7, 0)]</td>\n",
       "      <td>[4, 5, 6, 7]</td>\n",
       "      <td>[4, 5, 6, 7]</td>\n",
       "      <td>[4, 5, 6, 7]</td>\n",
       "      <td>[5, 6, 7]</td>\n",
       "      <td>[4, 5, 6, 7]</td>\n",
       "      <td>[4, 5, 6, 7]</td>\n",
       "      <td>[4, 5, 6, 7]</td>\n",
       "      <td>[4, 5, 6, 7]</td>\n",
       "    </tr>\n",
       "    <tr>\n",
       "      <th>2</th>\n",
       "      <td>[(4, 3), (5, 1)]</td>\n",
       "      <td>e</td>\n",
       "      <td>[(4, 0), (5, 0), (6, 0), (7, 0)]</td>\n",
       "      <td>[5]</td>\n",
       "      <td>[5]</td>\n",
       "      <td>[5]</td>\n",
       "      <td>[5]</td>\n",
       "      <td>[5]</td>\n",
       "      <td>[5]</td>\n",
       "      <td>[5]</td>\n",
       "      <td>[5]</td>\n",
       "    </tr>\n",
       "    <tr>\n",
       "      <th>3</th>\n",
       "      <td>[(4, 1), (5, 1), (7, 2)]</td>\n",
       "      <td>e</td>\n",
       "      <td>[(4, 0), (5, 0), (6, 0), (7, 0)]</td>\n",
       "      <td>[4, 5, 7]</td>\n",
       "      <td>[4, 5, 7]</td>\n",
       "      <td>[4, 5, 7]</td>\n",
       "      <td>[4, 5, 7]</td>\n",
       "      <td>[4, 5, 7]</td>\n",
       "      <td>[4, 5, 7]</td>\n",
       "      <td>[4, 5, 7]</td>\n",
       "      <td>[4, 5, 7]</td>\n",
       "    </tr>\n",
       "    <tr>\n",
       "      <th>4</th>\n",
       "      <td>[(0, 1)]</td>\n",
       "      <td>o</td>\n",
       "      <td>[(0, 1), (1, 0.1), (2, -0.8), (3, -0.2)]</td>\n",
       "      <td>[0, 1, 2, 3]</td>\n",
       "      <td>[0, 1, 2, 3]</td>\n",
       "      <td>[0, 1, 2, 3]</td>\n",
       "      <td>[0, 1, 3]</td>\n",
       "      <td>[0, 1, 2, 3]</td>\n",
       "      <td>[0, 1, 2, 3]</td>\n",
       "      <td>[0, 1, 2, 3]</td>\n",
       "      <td>[0, 1, 2, 3]</td>\n",
       "    </tr>\n",
       "    <tr>\n",
       "      <th>5</th>\n",
       "      <td>[(0, 1), (1, 2), (3, 2)]</td>\n",
       "      <td>o</td>\n",
       "      <td>[(0, 0), (1, 0), (2, 0), (3, 0.25)]</td>\n",
       "      <td>[0, 3]</td>\n",
       "      <td>[0, 3]</td>\n",
       "      <td>[0, 3]</td>\n",
       "      <td>[0, 3]</td>\n",
       "      <td>[0, 3]</td>\n",
       "      <td>[0, 3]</td>\n",
       "      <td>[0, 3]</td>\n",
       "      <td>[0, 3]</td>\n",
       "    </tr>\n",
       "    <tr>\n",
       "      <th>6</th>\n",
       "      <td>[(0, 1), (1, 1), (2, 1), (3, 1)]</td>\n",
       "      <td>o</td>\n",
       "      <td>[(0, 1), (1, 0.1), (2, -0.8), (3, 0.2)]</td>\n",
       "      <td>[2, 3]</td>\n",
       "      <td>[2, 3]</td>\n",
       "      <td>[2, 3]</td>\n",
       "      <td>[2, 3]</td>\n",
       "      <td>[2, 3]</td>\n",
       "      <td>[2, 3]</td>\n",
       "      <td>[2, 3]</td>\n",
       "      <td>[3]</td>\n",
       "    </tr>\n",
       "    <tr>\n",
       "      <th>7</th>\n",
       "      <td>[(2, 2), (3, 2)]</td>\n",
       "      <td>o</td>\n",
       "      <td>[(0, 0), (1, 0), (2, 0), (3, 0.2)]</td>\n",
       "      <td>[1]</td>\n",
       "      <td>[1]</td>\n",
       "      <td>[1]</td>\n",
       "      <td>[1]</td>\n",
       "      <td>[1]</td>\n",
       "      <td>[1]</td>\n",
       "      <td>[1]</td>\n",
       "      <td>[1]</td>\n",
       "    </tr>\n",
       "  </tbody>\n",
       "</table>\n",
       "</div>"
      ],
      "text/plain": [
       "                           ambition apptype  \\\n",
       "0          [(4, 1), (5, 1), (6, 2)]       e   \n",
       "1                          [(4, 2)]       e   \n",
       "2                  [(4, 3), (5, 1)]       e   \n",
       "3          [(4, 1), (5, 1), (7, 2)]       e   \n",
       "4                          [(0, 1)]       o   \n",
       "5          [(0, 1), (1, 2), (3, 2)]       o   \n",
       "6  [(0, 1), (1, 1), (2, 1), (3, 1)]       o   \n",
       "7                  [(2, 2), (3, 2)]       o   \n",
       "\n",
       "                                   freetext        gender         grade  \\\n",
       "0          [(4, 0), (5, 0), (6, 0), (7, 0)]        [5, 6]        [5, 6]   \n",
       "1          [(4, 0), (5, 0), (6, 0), (7, 0)]  [4, 5, 6, 7]  [4, 5, 6, 7]   \n",
       "2          [(4, 0), (5, 0), (6, 0), (7, 0)]           [5]           [5]   \n",
       "3          [(4, 0), (5, 0), (6, 0), (7, 0)]     [4, 5, 7]     [4, 5, 7]   \n",
       "4  [(0, 1), (1, 0.1), (2, -0.8), (3, -0.2)]  [0, 1, 2, 3]  [0, 1, 2, 3]   \n",
       "5       [(0, 0), (1, 0), (2, 0), (3, 0.25)]        [0, 3]        [0, 3]   \n",
       "6   [(0, 1), (1, 0.1), (2, -0.8), (3, 0.2)]        [2, 3]        [2, 3]   \n",
       "7        [(0, 0), (1, 0), (2, 0), (3, 0.2)]           [1]           [1]   \n",
       "\n",
       "             mc        mch           occ        travel          type  \\\n",
       "0        [5, 6]     [5, 6]        [5, 6]        [5, 6]        [5, 6]   \n",
       "1  [4, 5, 6, 7]  [5, 6, 7]  [4, 5, 6, 7]  [4, 5, 6, 7]  [4, 5, 6, 7]   \n",
       "2           [5]        [5]           [5]           [5]           [5]   \n",
       "3     [4, 5, 7]  [4, 5, 7]     [4, 5, 7]     [4, 5, 7]     [4, 5, 7]   \n",
       "4  [0, 1, 2, 3]  [0, 1, 3]  [0, 1, 2, 3]  [0, 1, 2, 3]  [0, 1, 2, 3]   \n",
       "5        [0, 3]     [0, 3]        [0, 3]        [0, 3]        [0, 3]   \n",
       "6        [2, 3]     [2, 3]        [2, 3]        [2, 3]        [2, 3]   \n",
       "7           [1]        [1]           [1]           [1]           [1]   \n",
       "\n",
       "        virtual  \n",
       "0        [5, 6]  \n",
       "1  [4, 5, 6, 7]  \n",
       "2           [5]  \n",
       "3     [4, 5, 7]  \n",
       "4  [0, 1, 2, 3]  \n",
       "5        [0, 3]  \n",
       "6           [3]  \n",
       "7           [1]  "
      ]
     },
     "execution_count": 30,
     "metadata": {},
     "output_type": "execute_result"
    }
   ],
   "source": [
    "df"
   ]
  },
  {
   "cell_type": "markdown",
   "metadata": {
    "collapsed": true
   },
   "source": [
    "## Do calculations\n",
    "1. get individuals with the opposite apptype\n",
    "2. get the intersection of the entries in gender, grade, mc, mch, oc, travel, type, and virtual\n",
    "3. ..."
   ]
  },
  {
   "cell_type": "code",
   "execution_count": 42,
   "metadata": {},
   "outputs": [
    {
     "data": {
      "text/plain": [
       "ambition                            [(4, 2)]\n",
       "apptype                                    e\n",
       "freetext    [(4, 0), (5, 0), (6, 0), (7, 0)]\n",
       "gender                          [4, 5, 6, 7]\n",
       "grade                           [4, 5, 6, 7]\n",
       "mc                              [4, 5, 6, 7]\n",
       "mch                                [5, 6, 7]\n",
       "occ                             [4, 5, 6, 7]\n",
       "travel                          [4, 5, 6, 7]\n",
       "type                            [4, 5, 6, 7]\n",
       "virtual                         [4, 5, 6, 7]\n",
       "scores                                    {}\n",
       "Name: 1, dtype: object"
      ]
     },
     "execution_count": 42,
     "metadata": {},
     "output_type": "execute_result"
    }
   ],
   "source": [
    "df.iloc[1]"
   ]
  },
  {
   "cell_type": "code",
   "execution_count": 45,
   "metadata": {},
   "outputs": [],
   "source": [
    "current = df.iloc[1]\n",
    "opposite_type = 'e' if current['apptype'] == 'o' else 'o'\n",
    "opposite_indices = list(df[df['apptype'] == opposite_type].index)\n",
    "actual_matches = set(current['gender']).intersection(set(current['grade']), set(current['mc']), set(current['mch']), \\\n",
    "                            set(current['occ']), set(current['travel']), set(current['type']), set(current['virtual']), \\\n",
    "                            set([index for (index, count) in current['ambition']]))"
   ]
  },
  {
   "cell_type": "code",
   "execution_count": 46,
   "metadata": {},
   "outputs": [
    {
     "name": "stdout",
     "output_type": "stream",
     "text": [
      "possible: [4, 5, 6, 7]  -- actual: set()\n"
     ]
    }
   ],
   "source": [
    "print('possible: {}  -- actual: {}'.format(opposite_indices, actual_matches))"
   ]
  },
  {
   "cell_type": "code",
   "execution_count": 34,
   "metadata": {
    "collapsed": true
   },
   "outputs": [],
   "source": [
    "scores = dict()\n",
    "for index, count in current['ambition']:\n",
    "    if index in actual_matches:\n",
    "        scores[index] = count\n",
    "        \n",
    "for index, score in current['freetext']:\n",
    "    if index in scores:\n",
    "        scores[index] += score"
   ]
  },
  {
   "cell_type": "code",
   "execution_count": 35,
   "metadata": {},
   "outputs": [
    {
     "name": "stdout",
     "output_type": "stream",
     "text": [
      "{0: 1, 3: 2.25}\n"
     ]
    }
   ],
   "source": [
    "print(scores)"
   ]
  },
  {
   "cell_type": "code",
   "execution_count": 53,
   "metadata": {
    "collapsed": true
   },
   "outputs": [],
   "source": [
    "def get_scores(row):\n",
    "    actual_matches = set(row['gender']).intersection(set(row['grade']), set(row['mc']), set(row['mch']), \\\n",
    "                            set(row['occ']), set(row['travel']), set(row['type']), set(row['virtual']), \\\n",
    "                            set([index for (index, count) in row['ambition']]))\n",
    "    scores = dict()\n",
    "    for index, count in row['ambition']:\n",
    "        if index in actual_matches:\n",
    "            scores[index] = count\n",
    "\n",
    "    for index, score in row['freetext']:\n",
    "        if index in scores:\n",
    "            scores[index] += score\n",
    "    \n",
    "    return scores"
   ]
  },
  {
   "cell_type": "code",
   "execution_count": 54,
   "metadata": {},
   "outputs": [
    {
     "name": "stdout",
     "output_type": "stream",
     "text": [
      "                           ambition apptype  \\\n",
      "0          [(4, 1), (5, 1), (6, 2)]       e   \n",
      "1                          [(4, 2)]       e   \n",
      "2                  [(4, 3), (5, 1)]       e   \n",
      "3          [(4, 1), (5, 1), (7, 2)]       e   \n",
      "4                          [(0, 1)]       o   \n",
      "5          [(0, 1), (1, 2), (3, 2)]       o   \n",
      "6  [(0, 1), (1, 1), (2, 1), (3, 1)]       o   \n",
      "7                  [(2, 2), (3, 2)]       o   \n",
      "\n",
      "                                   freetext        gender         grade  \\\n",
      "0          [(4, 0), (5, 0), (6, 0), (7, 0)]        [5, 6]        [5, 6]   \n",
      "1          [(4, 0), (5, 0), (6, 0), (7, 0)]  [4, 5, 6, 7]  [4, 5, 6, 7]   \n",
      "2          [(4, 0), (5, 0), (6, 0), (7, 0)]           [5]           [5]   \n",
      "3          [(4, 0), (5, 0), (6, 0), (7, 0)]     [4, 5, 7]     [4, 5, 7]   \n",
      "4  [(0, 1), (1, 0.1), (2, -0.8), (3, -0.2)]  [0, 1, 2, 3]  [0, 1, 2, 3]   \n",
      "5       [(0, 0), (1, 0), (2, 0), (3, 0.25)]        [0, 3]        [0, 3]   \n",
      "6   [(0, 1), (1, 0.1), (2, -0.8), (3, 0.2)]        [2, 3]        [2, 3]   \n",
      "7        [(0, 0), (1, 0), (2, 0), (3, 0.2)]           [1]           [1]   \n",
      "\n",
      "             mc        mch           occ        travel          type  \\\n",
      "0        [5, 6]     [5, 6]        [5, 6]        [5, 6]        [5, 6]   \n",
      "1  [4, 5, 6, 7]  [5, 6, 7]  [4, 5, 6, 7]  [4, 5, 6, 7]  [4, 5, 6, 7]   \n",
      "2           [5]        [5]           [5]           [5]           [5]   \n",
      "3     [4, 5, 7]  [4, 5, 7]     [4, 5, 7]     [4, 5, 7]     [4, 5, 7]   \n",
      "4  [0, 1, 2, 3]  [0, 1, 3]  [0, 1, 2, 3]  [0, 1, 2, 3]  [0, 1, 2, 3]   \n",
      "5        [0, 3]     [0, 3]        [0, 3]        [0, 3]        [0, 3]   \n",
      "6        [2, 3]     [2, 3]        [2, 3]        [2, 3]        [2, 3]   \n",
      "7           [1]        [1]           [1]           [1]           [1]   \n",
      "\n",
      "        virtual              scores  \n",
      "0        [5, 6]        {5: 1, 6: 2}  \n",
      "1  [4, 5, 6, 7]                  {}  \n",
      "2           [5]              {5: 1}  \n",
      "3     [4, 5, 7]  {4: 1, 5: 1, 7: 2}  \n",
      "4  [0, 1, 2, 3]              {0: 2}  \n",
      "5        [0, 3]     {0: 1, 3: 2.25}  \n",
      "6           [3]            {3: 1.2}  \n",
      "7           [1]                  {}  \n"
     ]
    }
   ],
   "source": [
    "df['scores'] = df.apply(get_scores, axis=1)\n",
    "print(df)"
   ]
  },
  {
   "cell_type": "markdown",
   "metadata": {},
   "source": [
    "## Print results"
   ]
  },
  {
   "cell_type": "code",
   "execution_count": 55,
   "metadata": {},
   "outputs": [
    {
     "data": {
      "text/plain": [
       "ambition                                    [(0, 1)]\n",
       "apptype                                            o\n",
       "freetext    [(0, 1), (1, 0.1), (2, -0.8), (3, -0.2)]\n",
       "gender                                  [0, 1, 2, 3]\n",
       "grade                                   [0, 1, 2, 3]\n",
       "mc                                      [0, 1, 2, 3]\n",
       "mch                                        [0, 1, 3]\n",
       "occ                                     [0, 1, 2, 3]\n",
       "travel                                  [0, 1, 2, 3]\n",
       "type                                    [0, 1, 2, 3]\n",
       "virtual                                 [0, 1, 2, 3]\n",
       "scores                                        {0: 2}\n",
       "Name: 4, dtype: object"
      ]
     },
     "execution_count": 55,
     "metadata": {},
     "output_type": "execute_result"
    }
   ],
   "source": [
    "df.iloc[4]"
   ]
  },
  {
   "cell_type": "code",
   "execution_count": null,
   "metadata": {
    "collapsed": true
   },
   "outputs": [],
   "source": []
  }
 ],
 "metadata": {
  "kernelspec": {
   "display_name": "Python 3",
   "language": "python",
   "name": "python3"
  },
  "language_info": {
   "codemirror_mode": {
    "name": "ipython",
    "version": 3
   },
   "file_extension": ".py",
   "mimetype": "text/x-python",
   "name": "python",
   "nbconvert_exporter": "python",
   "pygments_lexer": "ipython3",
   "version": "3.7.6"
  }
 },
 "nbformat": 4,
 "nbformat_minor": 2
}
