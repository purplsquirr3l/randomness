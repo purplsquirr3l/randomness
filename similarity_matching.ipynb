{
 "cells": [
  {
   "cell_type": "code",
   "execution_count": 1,
   "metadata": {},
   "outputs": [],
   "source": [
    "import pandas as pd"
   ]
  },
  {
   "cell_type": "markdown",
   "metadata": {},
   "source": [
    "## Make data"
   ]
  },
  {
   "cell_type": "code",
   "execution_count": 5,
   "metadata": {},
   "outputs": [],
   "source": [
    "lists = [[5,6],[4,5,6,7],[5],[4,5,7],[0,1,2,3],[0,3],[2,3],[1]]\n",
    "tuples = [[(4,1),(5,1),(6,2)],[(4,2)],[(4,3),(5,1)],[(4,1),(5,1),(7,2)],[(0,1)],[(0,1),(1,2),(2,3)],\\\n",
    "          [(0,1),(1,1),(2,1),(3,1)],[(2,2),(3,2)]]\n",
    "\n",
    "df = pd.DataFrame({'apptype': ['e','e', 'e', 'e', 'o', 'o', 'o', 'o'], 'grade': lists, 'gender': lists, 'mc': lists, \\\n",
    "                   'mch': [[5,6],[5,6,7],[5],[4,5,7],[0,1,3],[0,3],[2,3],[1]], 'occ': lists, 'travel': lists, \\\n",
    "                   'virtual': [[5,6],[4,5,6,7],[5],[4,5,7],[0,1,2,3],[0,3],[3],[1]], 'type': lists, 'ambition': tuples, \\\n",
    "                   'freetext': [[(4,0),(5,0),(6,0),(7,0)],[(4,0),(5,0),(6,0),(7,0)],[(4,0),(5,0),(6,0),(7,0)],\\\n",
    "                                [(4,0),(5,0),(6,0),(7,0)],[(0,1),(1,0.1),(2,-.8),(3,-.2)],[(0,0),(1,0),(2,0),(3,.25)],\\\n",
    "                                [(0,1),(1,.1),(2,-.8),(3,.2)],[(0,0),(1,0),(2,0),(3,.2)]]})"
   ]
  },
  {
   "cell_type": "code",
   "execution_count": 6,
   "metadata": {},
   "outputs": [
    {
     "data": {
      "text/html": [
       "<div>\n",
       "<style>\n",
       "    .dataframe thead tr:only-child th {\n",
       "        text-align: right;\n",
       "    }\n",
       "\n",
       "    .dataframe thead th {\n",
       "        text-align: left;\n",
       "    }\n",
       "\n",
       "    .dataframe tbody tr th {\n",
       "        vertical-align: top;\n",
       "    }\n",
       "</style>\n",
       "<table border=\"1\" class=\"dataframe\">\n",
       "  <thead>\n",
       "    <tr style=\"text-align: right;\">\n",
       "      <th></th>\n",
       "      <th>ambition</th>\n",
       "      <th>apptype</th>\n",
       "      <th>freetext</th>\n",
       "      <th>gender</th>\n",
       "      <th>grade</th>\n",
       "      <th>mc</th>\n",
       "      <th>mch</th>\n",
       "      <th>occ</th>\n",
       "      <th>travel</th>\n",
       "      <th>type</th>\n",
       "      <th>virtual</th>\n",
       "    </tr>\n",
       "  </thead>\n",
       "  <tbody>\n",
       "    <tr>\n",
       "      <th>0</th>\n",
       "      <td>[(4, 1), (5, 1), (6, 2)]</td>\n",
       "      <td>e</td>\n",
       "      <td>[(4, 0), (5, 0), (6, 0), (7, 0)]</td>\n",
       "      <td>[5, 6]</td>\n",
       "      <td>[5, 6]</td>\n",
       "      <td>[5, 6]</td>\n",
       "      <td>[5, 6]</td>\n",
       "      <td>[5, 6]</td>\n",
       "      <td>[5, 6]</td>\n",
       "      <td>[5, 6]</td>\n",
       "      <td>[5, 6]</td>\n",
       "    </tr>\n",
       "    <tr>\n",
       "      <th>1</th>\n",
       "      <td>[(4, 2)]</td>\n",
       "      <td>e</td>\n",
       "      <td>[(4, 0), (5, 0), (6, 0), (7, 0)]</td>\n",
       "      <td>[4, 5, 6, 7]</td>\n",
       "      <td>[4, 5, 6, 7]</td>\n",
       "      <td>[4, 5, 6, 7]</td>\n",
       "      <td>[5, 6, 7]</td>\n",
       "      <td>[4, 5, 6, 7]</td>\n",
       "      <td>[4, 5, 6, 7]</td>\n",
       "      <td>[4, 5, 6, 7]</td>\n",
       "      <td>[4, 5, 6, 7]</td>\n",
       "    </tr>\n",
       "    <tr>\n",
       "      <th>2</th>\n",
       "      <td>[(4, 3), (5, 1)]</td>\n",
       "      <td>e</td>\n",
       "      <td>[(4, 0), (5, 0), (6, 0), (7, 0)]</td>\n",
       "      <td>[5]</td>\n",
       "      <td>[5]</td>\n",
       "      <td>[5]</td>\n",
       "      <td>[5]</td>\n",
       "      <td>[5]</td>\n",
       "      <td>[5]</td>\n",
       "      <td>[5]</td>\n",
       "      <td>[5]</td>\n",
       "    </tr>\n",
       "    <tr>\n",
       "      <th>3</th>\n",
       "      <td>[(4, 1), (5, 1), (7, 2)]</td>\n",
       "      <td>e</td>\n",
       "      <td>[(4, 0), (5, 0), (6, 0), (7, 0)]</td>\n",
       "      <td>[4, 5, 7]</td>\n",
       "      <td>[4, 5, 7]</td>\n",
       "      <td>[4, 5, 7]</td>\n",
       "      <td>[4, 5, 7]</td>\n",
       "      <td>[4, 5, 7]</td>\n",
       "      <td>[4, 5, 7]</td>\n",
       "      <td>[4, 5, 7]</td>\n",
       "      <td>[4, 5, 7]</td>\n",
       "    </tr>\n",
       "    <tr>\n",
       "      <th>4</th>\n",
       "      <td>[(0, 1)]</td>\n",
       "      <td>o</td>\n",
       "      <td>[(0, 1), (1, 0.1), (2, -0.8), (3, -0.2)]</td>\n",
       "      <td>[0, 1, 2, 3]</td>\n",
       "      <td>[0, 1, 2, 3]</td>\n",
       "      <td>[0, 1, 2, 3]</td>\n",
       "      <td>[0, 1, 3]</td>\n",
       "      <td>[0, 1, 2, 3]</td>\n",
       "      <td>[0, 1, 2, 3]</td>\n",
       "      <td>[0, 1, 2, 3]</td>\n",
       "      <td>[0, 1, 2, 3]</td>\n",
       "    </tr>\n",
       "  </tbody>\n",
       "</table>\n",
       "</div>"
      ],
      "text/plain": [
       "                   ambition apptype                                  freetext  \\\n",
       "0  [(4, 1), (5, 1), (6, 2)]       e          [(4, 0), (5, 0), (6, 0), (7, 0)]   \n",
       "1                  [(4, 2)]       e          [(4, 0), (5, 0), (6, 0), (7, 0)]   \n",
       "2          [(4, 3), (5, 1)]       e          [(4, 0), (5, 0), (6, 0), (7, 0)]   \n",
       "3  [(4, 1), (5, 1), (7, 2)]       e          [(4, 0), (5, 0), (6, 0), (7, 0)]   \n",
       "4                  [(0, 1)]       o  [(0, 1), (1, 0.1), (2, -0.8), (3, -0.2)]   \n",
       "\n",
       "         gender         grade            mc        mch           occ  \\\n",
       "0        [5, 6]        [5, 6]        [5, 6]     [5, 6]        [5, 6]   \n",
       "1  [4, 5, 6, 7]  [4, 5, 6, 7]  [4, 5, 6, 7]  [5, 6, 7]  [4, 5, 6, 7]   \n",
       "2           [5]           [5]           [5]        [5]           [5]   \n",
       "3     [4, 5, 7]     [4, 5, 7]     [4, 5, 7]  [4, 5, 7]     [4, 5, 7]   \n",
       "4  [0, 1, 2, 3]  [0, 1, 2, 3]  [0, 1, 2, 3]  [0, 1, 3]  [0, 1, 2, 3]   \n",
       "\n",
       "         travel          type       virtual  \n",
       "0        [5, 6]        [5, 6]        [5, 6]  \n",
       "1  [4, 5, 6, 7]  [4, 5, 6, 7]  [4, 5, 6, 7]  \n",
       "2           [5]           [5]           [5]  \n",
       "3     [4, 5, 7]     [4, 5, 7]     [4, 5, 7]  \n",
       "4  [0, 1, 2, 3]  [0, 1, 2, 3]  [0, 1, 2, 3]  "
      ]
     },
     "execution_count": 6,
     "metadata": {},
     "output_type": "execute_result"
    }
   ],
   "source": [
    "df.head()"
   ]
  },
  {
   "cell_type": "markdown",
   "metadata": {
    "collapsed": true
   },
   "source": [
    "## Do calculations\n",
    "1. get individuals with the opposite apptype\n",
    "2. get the intersection of the entries in gender, grade, mc, mch, oc, travel, type, and virtual\n",
    "3. ..."
   ]
  },
  {
   "cell_type": "code",
   "execution_count": 7,
   "metadata": {},
   "outputs": [
    {
     "data": {
      "text/plain": [
       "ambition            [(4, 1), (5, 1), (6, 2)]\n",
       "apptype                                    e\n",
       "freetext    [(4, 0), (5, 0), (6, 0), (7, 0)]\n",
       "gender                                [5, 6]\n",
       "grade                                 [5, 6]\n",
       "mc                                    [5, 6]\n",
       "mch                                   [5, 6]\n",
       "occ                                   [5, 6]\n",
       "travel                                [5, 6]\n",
       "type                                  [5, 6]\n",
       "virtual                               [5, 6]\n",
       "Name: 0, dtype: object"
      ]
     },
     "execution_count": 7,
     "metadata": {},
     "output_type": "execute_result"
    }
   ],
   "source": [
    "df.iloc[0]"
   ]
  },
  {
   "cell_type": "code",
   "execution_count": 9,
   "metadata": {},
   "outputs": [],
   "source": [
    "current = df.iloc[0]\n",
    "opposite_type = 'e' if current['apptype'] == 'o' else 'o'\n",
    "opposite_indices = list(df[df['apptype'] == opposite_type].index)\n",
    "actual_matches = set(current['gender']+current['grade']+current['mc']+current['mch']\n",
    "                       +current['occ']+current['travel']+current['type']+current['virtual'])"
   ]
  },
  {
   "cell_type": "code",
   "execution_count": 10,
   "metadata": {},
   "outputs": [
    {
     "name": "stdout",
     "output_type": "stream",
     "text": [
      "all: [4, 5, 6, 7]  -- possible: {5, 6}\n"
     ]
    }
   ],
   "source": [
    "print('possible: {}  -- actual: {}'.format(opposite_indices, actual_matches))"
   ]
  },
  {
   "cell_type": "code",
   "execution_count": null,
   "metadata": {
    "collapsed": true
   },
   "outputs": [],
   "source": []
  }
 ],
 "metadata": {
  "kernelspec": {
   "display_name": "Python 3",
   "language": "python",
   "name": "python3"
  },
  "language_info": {
   "codemirror_mode": {
    "name": "ipython",
    "version": 3
   },
   "file_extension": ".py",
   "mimetype": "text/x-python",
   "name": "python",
   "nbconvert_exporter": "python",
   "pygments_lexer": "ipython3",
   "version": "3.6.2"
  }
 },
 "nbformat": 4,
 "nbformat_minor": 2
}
