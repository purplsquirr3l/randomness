{
 "cells": [
  {
   "cell_type": "code",
   "execution_count": 1,
   "metadata": {},
   "outputs": [
    {
     "name": "stderr",
     "output_type": "stream",
     "text": [
      "C:\\Users\\Britt\\AppData\\Local\\Continuum\\Anaconda3\\envs\\text\\lib\\site-packages\\gensim\\utils.py:865: UserWarning: detected Windows; aliasing chunkize to chunkize_serial\n",
      "  warnings.warn(\"detected Windows; aliasing chunkize to chunkize_serial\")\n"
     ]
    }
   ],
   "source": [
    "import xml.etree.ElementTree as ET\n",
    "from os import listdir\n",
    "import pandas as pd\n",
    "import nltk\n",
    "from regex import search\n",
    "from gensim import corpora, models\n",
    "from itertools import chain"
   ]
  },
  {
   "cell_type": "markdown",
   "metadata": {},
   "source": [
    "## Grab and format the data"
   ]
  },
  {
   "cell_type": "code",
   "execution_count": 2,
   "metadata": {
    "collapsed": true
   },
   "outputs": [],
   "source": [
    "files = [ET.parse('../data/articles/{}'.format(a)) for a in listdir('../data/articles') if \"_2016\" in a]"
   ]
  },
  {
   "cell_type": "code",
   "execution_count": 3,
   "metadata": {},
   "outputs": [
    {
     "name": "stdout",
     "output_type": "stream",
     "text": [
      "Number of files retrieved: 464\n"
     ]
    }
   ],
   "source": [
    "print('Number of files retrieved: {:,}'.format(len(files)))"
   ]
  },
  {
   "cell_type": "code",
   "execution_count": 4,
   "metadata": {
    "collapsed": true
   },
   "outputs": [],
   "source": [
    "publications = []\n",
    "titles = []\n",
    "dates = []\n",
    "text = []\n",
    "\n",
    "for file in files:\n",
    "    publications.append(file.find(\"publication\").text)\n",
    "    titles.append(file.find(\"title\").text)\n",
    "    dates.append(file.find(\"date_published\").text)\n",
    "    text.append(file.find(\"text\").text)\n",
    "    \n",
    "df = pd.DataFrame({'publication': publications, 'text': text, 'date': dates, 'title': titles})"
   ]
  },
  {
   "cell_type": "code",
   "execution_count": 5,
   "metadata": {},
   "outputs": [
    {
     "data": {
      "text/html": [
       "<div>\n",
       "<style>\n",
       "    .dataframe thead tr:only-child th {\n",
       "        text-align: right;\n",
       "    }\n",
       "\n",
       "    .dataframe thead th {\n",
       "        text-align: left;\n",
       "    }\n",
       "\n",
       "    .dataframe tbody tr th {\n",
       "        vertical-align: top;\n",
       "    }\n",
       "</style>\n",
       "<table border=\"1\" class=\"dataframe\">\n",
       "  <thead>\n",
       "    <tr style=\"text-align: right;\">\n",
       "      <th></th>\n",
       "      <th>date</th>\n",
       "      <th>publication</th>\n",
       "      <th>text</th>\n",
       "      <th>title</th>\n",
       "    </tr>\n",
       "  </thead>\n",
       "  <tbody>\n",
       "    <tr>\n",
       "      <th>0</th>\n",
       "      <td>2016-09-16T00:00:00Z</td>\n",
       "      <td>THE DAILY TELEGRAPH (LONDON)</td>\n",
       "      <td>Importance of having a good scrum-half is best...</td>\n",
       "      <td>Why Fotuali'i has put Bath on cloud nine - AUS...</td>\n",
       "    </tr>\n",
       "    <tr>\n",
       "      <th>1</th>\n",
       "      <td>2016-09-16T00:00:00Z</td>\n",
       "      <td>THE GUARDIAN</td>\n",
       "      <td>Bringing characters back from the dead is a ti...</td>\n",
       "      <td>Neighbours' Madeleine West to return to Ramsay...</td>\n",
       "    </tr>\n",
       "    <tr>\n",
       "      <th>2</th>\n",
       "      <td>2016-09-16T00:00:00Z</td>\n",
       "      <td>THE DAILY TELEGRAPH (LONDON)</td>\n",
       "      <td>Forty Autumns by Nina Willner\\n\\nA family's st...</td>\n",
       "      <td>bookshop</td>\n",
       "    </tr>\n",
       "    <tr>\n",
       "      <th>3</th>\n",
       "      <td>2016-09-16T00:00:00Z</td>\n",
       "      <td>THE GUARDIAN</td>\n",
       "      <td>Related:  Party politics: why grime defines t...</td>\n",
       "      <td>Youth in revolt: is 2016 a new dawn for young,...</td>\n",
       "    </tr>\n",
       "    <tr>\n",
       "      <th>4</th>\n",
       "      <td>2016-09-16T00:00:00Z</td>\n",
       "      <td>THE GUARDIAN</td>\n",
       "      <td>They are avant-garde and often tricky to wear ...</td>\n",
       "      <td>Avant-garde Alexander Calder jewellery to go o...</td>\n",
       "    </tr>\n",
       "  </tbody>\n",
       "</table>\n",
       "</div>"
      ],
      "text/plain": [
       "                   date                   publication  \\\n",
       "0  2016-09-16T00:00:00Z  THE DAILY TELEGRAPH (LONDON)   \n",
       "1  2016-09-16T00:00:00Z                  THE GUARDIAN   \n",
       "2  2016-09-16T00:00:00Z  THE DAILY TELEGRAPH (LONDON)   \n",
       "3  2016-09-16T00:00:00Z                  THE GUARDIAN   \n",
       "4  2016-09-16T00:00:00Z                  THE GUARDIAN   \n",
       "\n",
       "                                                text  \\\n",
       "0  Importance of having a good scrum-half is best...   \n",
       "1  Bringing characters back from the dead is a ti...   \n",
       "2  Forty Autumns by Nina Willner\\n\\nA family's st...   \n",
       "3   Related:  Party politics: why grime defines t...   \n",
       "4  They are avant-garde and often tricky to wear ...   \n",
       "\n",
       "                                               title  \n",
       "0  Why Fotuali'i has put Bath on cloud nine - AUS...  \n",
       "1  Neighbours' Madeleine West to return to Ramsay...  \n",
       "2                                           bookshop  \n",
       "3  Youth in revolt: is 2016 a new dawn for young,...  \n",
       "4  Avant-garde Alexander Calder jewellery to go o...  "
      ]
     },
     "execution_count": 5,
     "metadata": {},
     "output_type": "execute_result"
    }
   ],
   "source": [
    "df.head()"
   ]
  },
  {
   "cell_type": "code",
   "execution_count": 20,
   "metadata": {
    "collapsed": true
   },
   "outputs": [],
   "source": [
    "def get_cleaned_tokens(sentence):\n",
    "    \"\"\"Returns a list of tokens with the tokens containing stopwords and tokens containing only punctuation or digits removed.\"\"\"\n",
    "    tokens = [a for a in nltk.word_tokenize(sentence) \n",
    "              if not search(r\"^[\\p{P}|\\d]+$\", a) and a not in nltk.corpus.stopwords.words( 'english' )]\n",
    "    return tokens\n",
    "\n",
    "def tokenize_text(text):\n",
    "    \"\"\"Returns a list of lists wherein each list entry represents a sentence in the form of tokens.\n",
    "    \n",
    "    All entries in the list are lowercased.\n",
    "    \"\"\"\n",
    "    text = text.lower()\n",
    "    word_tokens = [get_cleaned_tokens(sentence) for sentence in nltk.sent_tokenize(text)]\n",
    "    return word_tokens"
   ]
  },
  {
   "cell_type": "code",
   "execution_count": 21,
   "metadata": {
    "collapsed": true
   },
   "outputs": [],
   "source": [
    "df['title_tokens'] = df['title'].map(tokenize_text)"
   ]
  },
  {
   "cell_type": "code",
   "execution_count": 22,
   "metadata": {},
   "outputs": [
    {
     "data": {
      "text/html": [
       "<div>\n",
       "<style>\n",
       "    .dataframe thead tr:only-child th {\n",
       "        text-align: right;\n",
       "    }\n",
       "\n",
       "    .dataframe thead th {\n",
       "        text-align: left;\n",
       "    }\n",
       "\n",
       "    .dataframe tbody tr th {\n",
       "        vertical-align: top;\n",
       "    }\n",
       "</style>\n",
       "<table border=\"1\" class=\"dataframe\">\n",
       "  <thead>\n",
       "    <tr style=\"text-align: right;\">\n",
       "      <th></th>\n",
       "      <th>date</th>\n",
       "      <th>publication</th>\n",
       "      <th>text</th>\n",
       "      <th>title</th>\n",
       "      <th>title_tokens</th>\n",
       "    </tr>\n",
       "  </thead>\n",
       "  <tbody>\n",
       "    <tr>\n",
       "      <th>0</th>\n",
       "      <td>2016-09-16T00:00:00Z</td>\n",
       "      <td>THE DAILY TELEGRAPH (LONDON)</td>\n",
       "      <td>Importance of having a good scrum-half is best...</td>\n",
       "      <td>Why Fotuali'i has put Bath on cloud nine - AUS...</td>\n",
       "      <td>[[fotuali'i, put, bath, cloud, nine, austin, h...</td>\n",
       "    </tr>\n",
       "    <tr>\n",
       "      <th>1</th>\n",
       "      <td>2016-09-16T00:00:00Z</td>\n",
       "      <td>THE GUARDIAN</td>\n",
       "      <td>Bringing characters back from the dead is a ti...</td>\n",
       "      <td>Neighbours' Madeleine West to return to Ramsay...</td>\n",
       "      <td>[[neighbours, madeleine, west, return, ramsay,...</td>\n",
       "    </tr>\n",
       "    <tr>\n",
       "      <th>2</th>\n",
       "      <td>2016-09-16T00:00:00Z</td>\n",
       "      <td>THE DAILY TELEGRAPH (LONDON)</td>\n",
       "      <td>Forty Autumns by Nina Willner\\n\\nA family's st...</td>\n",
       "      <td>bookshop</td>\n",
       "      <td>[[bookshop]]</td>\n",
       "    </tr>\n",
       "    <tr>\n",
       "      <th>3</th>\n",
       "      <td>2016-09-16T00:00:00Z</td>\n",
       "      <td>THE GUARDIAN</td>\n",
       "      <td>Related:  Party politics: why grime defines t...</td>\n",
       "      <td>Youth in revolt: is 2016 a new dawn for young,...</td>\n",
       "      <td>[[youth, revolt, new, dawn, young, politicised...</td>\n",
       "    </tr>\n",
       "    <tr>\n",
       "      <th>4</th>\n",
       "      <td>2016-09-16T00:00:00Z</td>\n",
       "      <td>THE GUARDIAN</td>\n",
       "      <td>They are avant-garde and often tricky to wear ...</td>\n",
       "      <td>Avant-garde Alexander Calder jewellery to go o...</td>\n",
       "      <td>[[avant-garde, alexander, calder, jewellery, g...</td>\n",
       "    </tr>\n",
       "  </tbody>\n",
       "</table>\n",
       "</div>"
      ],
      "text/plain": [
       "                   date                   publication  \\\n",
       "0  2016-09-16T00:00:00Z  THE DAILY TELEGRAPH (LONDON)   \n",
       "1  2016-09-16T00:00:00Z                  THE GUARDIAN   \n",
       "2  2016-09-16T00:00:00Z  THE DAILY TELEGRAPH (LONDON)   \n",
       "3  2016-09-16T00:00:00Z                  THE GUARDIAN   \n",
       "4  2016-09-16T00:00:00Z                  THE GUARDIAN   \n",
       "\n",
       "                                                text  \\\n",
       "0  Importance of having a good scrum-half is best...   \n",
       "1  Bringing characters back from the dead is a ti...   \n",
       "2  Forty Autumns by Nina Willner\\n\\nA family's st...   \n",
       "3   Related:  Party politics: why grime defines t...   \n",
       "4  They are avant-garde and often tricky to wear ...   \n",
       "\n",
       "                                               title  \\\n",
       "0  Why Fotuali'i has put Bath on cloud nine - AUS...   \n",
       "1  Neighbours' Madeleine West to return to Ramsay...   \n",
       "2                                           bookshop   \n",
       "3  Youth in revolt: is 2016 a new dawn for young,...   \n",
       "4  Avant-garde Alexander Calder jewellery to go o...   \n",
       "\n",
       "                                        title_tokens  \n",
       "0  [[fotuali'i, put, bath, cloud, nine, austin, h...  \n",
       "1  [[neighbours, madeleine, west, return, ramsay,...  \n",
       "2                                       [[bookshop]]  \n",
       "3  [[youth, revolt, new, dawn, young, politicised...  \n",
       "4  [[avant-garde, alexander, calder, jewellery, g...  "
      ]
     },
     "execution_count": 22,
     "metadata": {},
     "output_type": "execute_result"
    }
   ],
   "source": [
    "df.head()"
   ]
  },
  {
   "cell_type": "code",
   "execution_count": 23,
   "metadata": {},
   "outputs": [
    {
     "data": {
      "text/plain": [
       "[[\"fotuali'i\", 'put', 'bath', 'cloud', 'nine', 'austin', 'healey']]"
      ]
     },
     "execution_count": 23,
     "metadata": {},
     "output_type": "execute_result"
    }
   ],
   "source": [
    "df.iloc[0]['title_tokens']"
   ]
  },
  {
   "cell_type": "markdown",
   "metadata": {},
   "source": [
    "## Do some modeling"
   ]
  },
  {
   "cell_type": "code",
   "execution_count": 24,
   "metadata": {
    "collapsed": true
   },
   "outputs": [],
   "source": [
    "dictionary = corpora.Dictionary(df['title_tokens'].map(chain.from_iterable))\n",
    "corpus =  [dictionary.doc2bow(text) for text in df['title_tokens'].map(chain.from_iterable)]"
   ]
  },
  {
   "cell_type": "code",
   "execution_count": 25,
   "metadata": {},
   "outputs": [
    {
     "name": "stdout",
     "output_type": "stream",
     "text": [
      "Num words in dictionary: 3,359\n",
      "Some examples and counts: [(\"fotuali'i\", 0), ('put', 1), ('bath', 2), ('cloud', 3), ('nine', 4), ('austin', 5), ('healey', 6), ('neighbours', 7), ('madeleine', 8), ('west', 9)]\n"
     ]
    }
   ],
   "source": [
    "print('Num words in dictionary: {:,}\\nSome examples and counts: {}'.format(len(dictionary.token2id.items()), list(dictionary.token2id.items())[0:10]))"
   ]
  },
  {
   "cell_type": "code",
   "execution_count": 26,
   "metadata": {
    "collapsed": true
   },
   "outputs": [],
   "source": [
    "tfidf = models.TfidfModel(corpus)\n",
    "corpus_tfidf = tfidf[corpus]"
   ]
  },
  {
   "cell_type": "code",
   "execution_count": 27,
   "metadata": {},
   "outputs": [
    {
     "data": {
      "text/plain": [
       "[(0,\n",
       "  '0.242*\"trump\" + 0.231*\"love\" + 0.199*\"\\'s\" + 0.198*\"us\" + 0.144*\"still\" + 0.139*\"first\" + 0.138*\"clinton\" + 0.132*\"team\" + 0.129*\"hillary\" + 0.128*\"could\"'),\n",
       " (1,\n",
       "  '0.354*\"love\" + 0.184*\"asperger\" + 0.184*\"syndrome\" + 0.184*\"missile\" + 0.184*\"appeal\" + 0.184*\"hacking\" + 0.184*\"extradition\" + 0.184*\"defence\" + 0.184*\"99-year\" + 0.184*\"computer\"')]"
      ]
     },
     "execution_count": 27,
     "metadata": {},
     "output_type": "execute_result"
    }
   ],
   "source": [
    "lsi = models.LsiModel(corpus_tfidf, id2word=dictionary, num_topics=2)\n",
    "lsi.print_topics(2)"
   ]
  },
  {
   "cell_type": "markdown",
   "metadata": {},
   "source": [
    "## Now what if we try to find the number of topics in a more interesting way..."
   ]
  },
  {
   "cell_type": "code",
   "execution_count": 29,
   "metadata": {},
   "outputs": [],
   "source": [
    "from sklearn.cluster import KMeans\n",
    "from sklearn import metrics\n",
    "from scipy.spatial.distance import cdist\n",
    "import matplotlib.pyplot as plt"
   ]
  },
  {
   "cell_type": "code",
   "execution_count": null,
   "metadata": {
    "collapsed": true
   },
   "outputs": [],
   "source": []
  },
  {
   "cell_type": "code",
   "execution_count": null,
   "metadata": {
    "collapsed": true
   },
   "outputs": [],
   "source": [
    "# k means determine k\n",
    "distortions = []\n",
    "K = range(1,10)\n",
    "for k in K:\n",
    "    kmeanModel = KMeans(n_clusters=k).fit(X)\n",
    "    kmeanModel.fit(X)\n",
    "    distortions.append(sum(np.min(cdist(X, kmeanModel.cluster_centers_, 'euclidean'), axis=1)) / X.shape[0])\n",
    " \n",
    "# Plot the elbow\n",
    "plt.plot(K, distortions, 'bx-')\n",
    "plt.xlabel('k')\n",
    "plt.ylabel('Distortion')\n",
    "plt.title('The Elbow Method showing the optimal k')\n",
    "plt.show()"
   ]
  }
 ],
 "metadata": {
  "kernelspec": {
   "display_name": "Python 3",
   "language": "python",
   "name": "python3"
  },
  "language_info": {
   "codemirror_mode": {
    "name": "ipython",
    "version": 3
   },
   "file_extension": ".py",
   "mimetype": "text/x-python",
   "name": "python",
   "nbconvert_exporter": "python",
   "pygments_lexer": "ipython3",
   "version": "3.6.2"
  }
 },
 "nbformat": 4,
 "nbformat_minor": 2
}
