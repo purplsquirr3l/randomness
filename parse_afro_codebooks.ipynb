{
 "cells": [
  {
   "cell_type": "code",
   "execution_count": 1,
   "metadata": {
    "collapsed": true
   },
   "outputs": [],
   "source": [
    "import re"
   ]
  },
  {
   "cell_type": "markdown",
   "metadata": {},
   "source": [
    "### Grab the following fields from the codebook(s) for each question:\n",
    "- Question Number\n",
    "- Question\n",
    "- Variable Label\n",
    "- Values\n",
    "- Value Labels\n",
    "- Source\n",
    "- Note"
   ]
  },
  {
   "cell_type": "code",
   "execution_count": 2,
   "metadata": {
    "collapsed": true
   },
   "outputs": [],
   "source": [
    "with open('../data/Afrobarometer/merged_round_6_codebook_20161.txt', 'r') as w:\n",
    "    filelines = w.readlines()"
   ]
  },
  {
   "cell_type": "code",
   "execution_count": 3,
   "metadata": {},
   "outputs": [
    {
     "name": "stdout",
     "output_type": "stream",
     "text": [
      "Num of lines in file: 4,850\n"
     ]
    }
   ],
   "source": [
    "print('Num of lines in file: {:,}'.format(len(filelines)))"
   ]
  },
  {
   "cell_type": "markdown",
   "metadata": {},
   "source": [
    "Questions to make sure are parsed correctly:\n",
    "- Q16 (66)\n",
    "- Q21 (73)\n",
    "- Q24E (83)\n",
    "- Q27D (96)\n",
    "- Q28D_ARB (101)\n",
    "- Q29a (102)\n",
    "- Q29b (103)\n",
    "- Q29g (108)\n",
    "- Q42C (127)\n",
    "- Q52A (150)\n",
    "- withinwt (327)"
   ]
  },
  {
   "cell_type": "code",
   "execution_count": 4,
   "metadata": {},
   "outputs": [
    {
     "name": "stdout",
     "output_type": "stream",
     "text": [
      "Num of questions to parse: 328\n"
     ]
    }
   ],
   "source": [
    "num_questions = len([a for a in filelines if re.search('^Question Number:', a)])\n",
    "print('Num of questions to parse: {:,}'.format(num_questions))    "
   ]
  },
  {
   "cell_type": "code",
   "execution_count": 5,
   "metadata": {},
   "outputs": [
    {
     "name": "stdout",
     "output_type": "stream",
     "text": [
      "Num questions gathered: 328\n"
     ]
    }
   ],
   "source": [
    "questions = []\n",
    "started = False\n",
    "question = []\n",
    "\n",
    "for line in filelines:\n",
    "    if (not started) and (re.search('^Question Number:', line)):\n",
    "        # start a new question\n",
    "        question.append(line)\n",
    "        started = True\n",
    "    elif started:\n",
    "        # we are in a question\n",
    "        if re.search('^Question Number:', line) or re.search('^Appendix 1:', line):\n",
    "            # we are starting a new question,\n",
    "            # so wrap up the last one\n",
    "            questions.append(question)\n",
    "            question = []                \n",
    "            \n",
    "            if re.search('^Appendix 1:', line):\n",
    "                started = False\n",
    "            \n",
    "        # add this line to the current question\n",
    "        question.append(line)\n",
    "            \n",
    "print('Num questions gathered: {:,}'.format(len(questions)))"
   ]
  },
  {
   "cell_type": "code",
   "execution_count": 8,
   "metadata": {
    "collapsed": true
   },
   "outputs": [],
   "source": [
    "sanity_check = [66, 73, 83, 96, 101, 102, 103, 108, 127, 150, 327]\n",
    "labels = re.compile(r'^((Question Number|Question|Variable Label|Values|Value Labels|Source|Note)\\s*):')"
   ]
  },
  {
   "cell_type": "code",
   "execution_count": 7,
   "metadata": {
    "scrolled": true
   },
   "outputs": [
    {
     "data": {
      "text/plain": [
       "['Question Number: withinwt \\n',\n",
       " 'Variable Label: Within country weighting factor \\n',\n",
       " 'Note: The weighting variable adjusts the distribution of the sample based on individual selection probabilities (i.e. based on region, gender, urban-rural distribution, and size of household and enumeration area). \\n']"
      ]
     },
     "execution_count": 7,
     "metadata": {},
     "output_type": "execute_result"
    }
   ],
   "source": [
    "questions[327]"
   ]
  },
  {
   "cell_type": "code",
   "execution_count": 99,
   "metadata": {},
   "outputs": [
    {
     "name": "stdout",
     "output_type": "stream",
     "text": [
      "dict_items([('Question Number', 'Q2'), ('Question', 'Which language is your home language?'), ('Variable Label', 'Q2. Language of respondent'), ('Values', '1-35, 101- 107, 141-149, 180- 197, 220-221, 260- 278, 300-315, 340-342, 381-396, 420-421,460-471, 502-518, 540-553, 581-591, 621- 653, 660-668, 702-710, 740-800, 820- 872, 900, 930- 943, 1100-1105, 1141- 1160, 1180, 1220 -1282, 1300-1305, 1420, 1460,1501,1540,1541,1620,1621,1660,1661,1662, 1700-1707, 2200-2222, 2740-2748, 9998-9999'), ('Value Labels', \"-1 =Missing, 1 =English, 2 =French, 3 =Portuguese, 4 =Swahili, 5 =Arabic, 6 =Adja, 7 =Afrikaans, 8 =Arabe, 9 =Bambara, 10 =Bassa, 11 =Berber Language, 12 =Bissa, 13 =Bobo, 14 =Chewa, 15 =Dioula, 16 =Ewe, 17 =Fon, 18 ,Fulfuldé, 19 =Haoussa, 20 =Hausa, 21 =Kanuri, 22 =Kissi, 23 =Lobi, 24 =Mano, 25 =Mende, 26 =Ndau, 27 =Ndebele, 28 =Nyanja, 29 =Peulh, 30 =Sénoufo, 31 =Setswana, 32 =Tamasheq, 33 =Tonga, 34 =Venda, 35 =Yoruba, 102 =Bariba, 103 =Dendi, 105 =Otamari, 107 =Lopka, 141 =Sesarwa, 142 =Sekgalagadi, 143 =Sesubia, 144 =Ikalanga/Sekalaka, 145 =Seherero, 146 =Sembukushu, 147 =Sebirwa, 148 =Sengologa, 149 =Seyei, 180 =Mooré, 183 =Gulmacema, 184 =Gourounsi, 186 =Birifor, 187 =Bwamu, 188 =Dagari, 189 =Fulse, 190 =Goin, 191 =Karaboro, 192 =Kassena, 194 =Marka, 195 =Samo,  197 =Sonrai, 220 =Crioulo, 221 =Português, 260 =Akan, 262 =Ga/Dangbe, 263 =Dagbani, 265 =Waala, 266 =Moshie, 267 =Mampruli, 268 =Likpakpaln, 269 =Kusal, 270 =Konkomba, 271 =Gonja, 272 =Frafra, 273 =Dagaari, 275 =Kotokoli, 276 =Gruma, 277 =Buli, 278 =Basari, 300 =Kikuyu, 301 =Luo, 302 =Luhya, 303 =Kamba, 304 =Kalenjin, 305 =Kisii, 306 =Meru/Embu, 307 =Maasai/Samburu, 308 =Mijikenda, 309 =Taita, 310 =Somali, 311 =Pokot, 312 =Turkana, 313 =Kuria, 314 =Garre, 315 =Borana, 340 =Sesotho, 341 =Sephuthi, 342 =Sethepu, 381 =Belle, 382 =Dei, 383 =Gbandi, 384 =Gio, 385 =Gola, 386 =Grebo, 388 =Kpelle, 389 =Krahn, 390 =Kru, 391 =Lorma, 392 =Mandingo, 395 =Vai, 396 =Liberian English, 420 =Malgache « officiel », 421 =Malgache avec spécificité régionale, 460 =Chitumbuka, 461 =Chinkhonde, 462 =Chilambya, 463 =Chichewa, 464 =Chiyao, 465 =Chingoni, 466 =Chilomwe, 467 =Chimang'anja, 468 =Chisena, 469 =Chisukwa, 470 ,Chisenga, 471 =Chitonga, 502 =Bella, 504 =Bozo, 505 =Dafing, 506 =Dogon, 509 =Kakolo, 510= Khassonké, 511 =Malinké, 512 =Maure, 513 =Mianka, 514 =Peulh/Fulfude, 515 =Samogo, 516 =Senufo, 517 =Soninké/Sarakolé, 518 =Sonrhai, 540 =Makua, 541 =Sena, 543 =Changana, 545 =Chope, 546 =Bitonga, 547 =Makonde, 548 =Chuabo, 549 =Ajaua, 550 =Lomue, 552 =Nyungwe, 553 =Xitswa, 581 =German, 582 =Nama/Damara, 583 =Oshiwambo (Oshindonga/Oshikwanyama), 584 =Otjiherero, 585 =Rukwangali, 586 =Rugririku/Rumanyo, 587 =Thimbukushu, 588 =Silozi, 590 =Masubia, 591 =San, 621 =Igbo, 623 =Pidgin English, 624 =Efik, 625 =Ebira, 626 =Fulani, 627 =Isoko, 628 =Ibibio, 631 =Nupe, 632 =Ijaw, 633 =Edo, 634 =Igala, 635 =Urhobo, 636 =Ogoni, 637 =Anang, 638 =Ikwere, 639 =Idoma, 640 =Esan, 641 =Nembe, 642 =Alago, 643 =Degema, 644 =Eggon, 645 =Jukun, 646 =Kagoma, 647 =Laru, 648 =Kalabari, 649 =Nwangavul, 650 =Tangale, 651 =Tarok, 652 =Waja, 653 =Yala, 660 =Wolof, 661 =Pulaar/Toucouleur, 662 =Serer, 663 =Mandinka/Bambara, 664 =Soninke, 665 =Diola, 666 =Manjack, 668 =Bassari, 702 =Xhosa, 703 =Pedi/North Sotho, 704 =Sotho/South Sotho, 705 =Tswana, 706 =Shangaan/Tsonga, 707 =Swazi, 709 =Zulu, 710 =Asian/Indian, 740 =Kinyakyusa, 741 =Kichaga, 742 =Kihaya, 743 =Kingoni, 744 =Kikwere, 745 =Kipare, 746 =Kihehe, 747 =Kimakonde, 748 =Kinyamwezi, 749 =Kisukuma, 750 =Kimasai, 751 =,Kimeru, 752 =Kikurya, 753 =Kigogo, 754 =Kiluguru, 755 =Kifipa, 756 =Kimanyema, 757 =Kinyiramba, 758 =Kinyaturu, 759 =Kiarusha, 760 =Kibena, 761 =Kiha, 762 =Kiiraq, 763 =Kijaluo, 764 =Kijita, 765 =Kikaguru, 766 =Kimakuwa, 767 =Kimatengo, 768 =Kimbulu, 769 =Kimwera, 770 =Kindali, 771 =Kindamba, 772 =Kindendeule, 773 =Kindengereko, 774 =Kingindo, 775 =Kinguu, 776 =Kinyambo, 777 =Kinyiha, 778 =Kipogoro, 779 =Kirangi, 780 =Luganda, 781 =Runyankole, 782 =Runyoro, 783 =Lusoga, 784 =Lumasaaba, 785 =Lukhonjo, 786 =Lunyole, 787 =Ateso, 788 =Acholi, 789 =Alur, 790 =Lugbara, 791 =Madi, 792 =Japadhola, 793 =Lusamia, 794 =Lugwere, 795 =Rukiga, 796 =Rutooro, 797 =Langi, 798 =Kupsabinyi, 799 =Ngakarimajong, 800 =Rufumbira, 820 =Bemba, 821 =Nyanja, 823 =Lozi, 825 =Nsenga, 826 =Tumbuka, 827 =Kaonde, 828 =Luvale, 829 =Namwanga, 830 =Lunda, 831 =Bisa, 832 =Nkoya, 833 ,Mambwe, 834 =Lenje, 835 =Ngoni, 836 =Soli, 837 =Ila, 838 =Ushi, 839 =Chokwe, 840 =Mbunda, 841 =Kunda, 842 =Lala, 843 ,Lamba, 844 =Lungu, 845 =Nyika, 846 =Senga, 847 =Tokaleya, 851 =Tabwa, 861 ,Shona, 862 =Zezuru, 863 =Korekore, 864 =Karanga, 865 =Manyika, 868 =Kalanga, 870 =Buja, 871 =Shangani, 872 =Suthu, 900 =Creole, 930 =Krio, 932 =Temne, 933 =Limba, 934 =Loko, 935 =Sherbo, 936 =Fulla, 937 =Kono, 938 =Kuranko, 939 =Madingo, 941 =Susu, 943 =Yalunka, 1101 =Zarma/Songhaï, 1105 =Goumantchéma, 1141 =Mina (Guen), 1142 =Kabye, 1143 =Tem (Kotokoli), 1144 =Ben (Moba), 1145 =Nawdem (Losso), 1146 ,Lama (Lamba), 1147 =Ife (Ana), 1148 =Ikposso (Akposso), 1149 =N'tcha (Bassar), 1151 =Akebou, 1152 =Gourma, 1153 =Konkomba, 1154 =Ngam-gam,1155 =Tchamba, 1157 =Ouatchi, 1160 =Tchpkossi (Anoufom), 1180 =Kirundi, 1220 =Foufouldé, 1221 =Pidgin, 1222 =Ewondo, 1223 =Bafang, 1224 =Douala, 1225 =Bafia, 1226 =Bafut, 1227 =Bangangté, 1228 =Bakundu, 1229 =Bamileke, 1230 =Bamoun, 1231 =Bandjoun, 1232 ,Bangwa, 1233 =Banso, 1235 =Batanga, 1236 =Bayangi, 1237 =Bulu, 1238 =Dschang, 1239 =Eton, 1240 =Fali, 1241 =Fong, 1242 =Gbaya, 1243 =Guider, 1244 =Guiziga, 1246 =Kapsiki, 1247= Mafa, 1248 =Maka, 1249 =Mankon, 1250 =Massa, 1251 =Mbouda, 1252=Mboum, 1254 =Moudan, 1255 =Ngueba, 1257 =Lamnso, 1258 =Tikari, 1259 =Toupouri, 1260 =Abbey, 1261 =Abron, 1262 =Adjoukrou, 1263 =Agny, 1264 =Attié, 1265 =Avikam, 1267 =Baoulé, 1268 =Bété, 1269 =Dida, 1270 =Godié, 1271 =Gouro, 1272 =Guéré, 1273 =Koulango, 1274 =Kroumen, 1278 =Yacouba, 1279 =Djimini, 1280 =Gnanboua, 1281 =Koyaka, 1282 =Wobe, 1300 =Soussou, 1301 =Poular, 1302 =Maninka, 1303 =Kpèlè, 1304 =Loma, 1305 =Kissié, 1420 =Algerian Arabic, 1460 =Egyptian Arabic, 1501 =Alhassania, 1540 =Sudanese Arabic, 1541 =Nubian Language, 1620 =siSwati, 1621 =Shangaan, 1660 ,Creolo, 1661 =Forro, 1662 =Angolar, 1700 =Fang, 1701 =Punu/Mériè, 1702 =Kota, 1703 =Mbédè, 1704 =Nzébi/Métié, 1705 =Myénè, 1706 =Tsogho, 1707 =Kélè, 2220 =Yamba, 2221 =Yabassi, 2222 =Bene, 2740 =Kisafwa, 2741 =Kisambaa, 2742 =Kishirazi, 2743 =Kisubi, 2744 =Kisumbwa, 2745 =Kiyao, 2746 =Kizanaki, 2747 =Kizaramo, 2748 =Kizigua, 9995 =Other, 9999 =Don't know, 9998=Refused to answer, 9999=Don’t know\"), ('Source', 'SAB'), ('Note', ': Interviewer was instructed to prompt if necessary with “That is, the language of your group of origin.” ')])\n"
     ]
    }
   ],
   "source": [
    "q_dict = {}\n",
    "last_label = None\n",
    "current_line = ''\n",
    "\n",
    "for line in questions[38]:\n",
    "    if labels.search(line):\n",
    "        if last_label is not None:\n",
    "            # add the last label to the dictionary\n",
    "            q_dict[last_label] = current_line\n",
    "        last_label = labels.search(line).group(1).strip()\n",
    "        current_line = line[line.find(last_label)+len(last_label)+1:].strip()\n",
    "    else:\n",
    "        current_line = '{} {}'.format(current_line, line.strip())\n",
    "# add the last label        \n",
    "q_dict[last_label] = current_line\n",
    "print(q_dict.items())"
   ]
  },
  {
   "cell_type": "code",
   "execution_count": 16,
   "metadata": {
    "collapsed": true
   },
   "outputs": [],
   "source": [
    "def parse_question(question):\n",
    "    q_dict = {}\n",
    "    last_label = None\n",
    "    current_line = ''\n",
    "\n",
    "    for line in question:\n",
    "        if labels.search(line):\n",
    "            if last_label is not None:\n",
    "                # add the last label to the dictionary\n",
    "                q_dict[last_label] = current_line.strip()\n",
    "            last_label = labels.search(line).group(1).strip()\n",
    "            current_line = line[line.find(last_label)+len(last_label)+1:].strip()\n",
    "        else:\n",
    "            current_line = '{} {}'.format(current_line, line.strip())\n",
    "    # add the last label        \n",
    "    q_dict[last_label] = current_line.strip()\n",
    "    return q_dict"
   ]
  },
  {
   "cell_type": "code",
   "execution_count": 17,
   "metadata": {},
   "outputs": [
    {
     "name": "stdout",
     "output_type": "stream",
     "text": [
      "Num parsed questions: 328\n"
     ]
    }
   ],
   "source": [
    "parsed_questions = list(map(parse_question, questions))\n",
    "print('Num parsed questions: {:,}'.format(len(parsed_questions)))"
   ]
  },
  {
   "cell_type": "code",
   "execution_count": 19,
   "metadata": {},
   "outputs": [
    {
     "data": {
      "text/plain": [
       "{'Question': 'During the past year, how often have you contacted any of the following persons about some important problem or to give them your views: Traditional Leaders?',\n",
       " 'Question Number': 'Q24E',\n",
       " 'Source': 'Adapted from Zambia96 *Not asked in STP, MAU, CVE',\n",
       " 'Value Labels': '0=Never, 1=Only once, 2=A few times, 3=Often, 9=Don’t know, 98=Refused to answer, -1=Missing',\n",
       " 'Values': '0-3, 9, 98, -1',\n",
       " 'Variable Label': 'Q24e. Contact traditional leader'}"
      ]
     },
     "execution_count": 19,
     "metadata": {},
     "output_type": "execute_result"
    }
   ],
   "source": [
    "parsed_questions[sanity_check[2]]"
   ]
  },
  {
   "cell_type": "code",
   "execution_count": 13,
   "metadata": {},
   "outputs": [
    {
     "data": {
      "text/plain": [
       "{'Note',\n",
       " 'Question',\n",
       " 'Question Number',\n",
       " 'Source',\n",
       " 'Value Labels',\n",
       " 'Values',\n",
       " 'Variable Label'}"
      ]
     },
     "execution_count": 13,
     "metadata": {},
     "output_type": "execute_result"
    }
   ],
   "source": [
    "set([b for a in parsed_questions for b in a])"
   ]
  },
  {
   "cell_type": "code",
   "execution_count": null,
   "metadata": {
    "collapsed": true
   },
   "outputs": [],
   "source": []
  }
 ],
 "metadata": {
  "kernelspec": {
   "display_name": "Python 3",
   "language": "python",
   "name": "python3"
  },
  "language_info": {
   "codemirror_mode": {
    "name": "ipython",
    "version": 3
   },
   "file_extension": ".py",
   "mimetype": "text/x-python",
   "name": "python",
   "nbconvert_exporter": "python",
   "pygments_lexer": "ipython3",
   "version": "3.6.1"
  }
 },
 "nbformat": 4,
 "nbformat_minor": 2
}
