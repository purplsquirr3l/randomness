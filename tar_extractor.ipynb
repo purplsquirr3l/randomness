{
 "cells": [
  {
   "cell_type": "code",
   "execution_count": 1,
   "metadata": {
    "collapsed": true
   },
   "outputs": [],
   "source": [
    "import tarfile\n",
    "from os import remove, path, listdir\n",
    "from re import search, sub"
   ]
  },
  {
   "cell_type": "markdown",
   "metadata": {},
   "source": [
    "**Exploring the tarfile package**"
   ]
  },
  {
   "cell_type": "code",
   "execution_count": 27,
   "metadata": {},
   "outputs": [
    {
     "name": "stdout",
     "output_type": "stream",
     "text": [
      "[<TarInfo 'test2.tar' at 0x234783abf20>, <TarInfo 'test3.txt' at 0x234783c4048>]\n"
     ]
    }
   ],
   "source": [
    "with tarfile.TarFile('../data/test_archives/test3_dir.tar') as zipper:\n",
    "    print(zipper.getmembers())"
   ]
  },
  {
   "cell_type": "code",
   "execution_count": 5,
   "metadata": {},
   "outputs": [
    {
     "name": "stdout",
     "output_type": "stream",
     "text": [
      "[<TarInfo 'test2b.tar' at 0x1d9eae78c00>, <TarInfo 'test3.txt' at 0x1d9eb0278e0>]\n"
     ]
    }
   ],
   "source": [
    "with tarfile.TarFile('../data/test_archives/test3.tar') as zipper:\n",
    "    print([a for a in zipper.getmembers() if a.isfile()])"
   ]
  },
  {
   "cell_type": "code",
   "execution_count": 8,
   "metadata": {},
   "outputs": [
    {
     "data": {
      "text/plain": [
       "<TarInfo 'test2b.tar' at 0x1d9eb027c00>"
      ]
     },
     "execution_count": 8,
     "metadata": {},
     "output_type": "execute_result"
    }
   ],
   "source": [
    "tar = tarfile.open('../data/test_archives/test3.tar')\n",
    "tar.getmembers()[0]"
   ]
  },
  {
   "cell_type": "code",
   "execution_count": 38,
   "metadata": {
    "collapsed": true
   },
   "outputs": [],
   "source": [
    "tar.close()"
   ]
  },
  {
   "cell_type": "markdown",
   "metadata": {},
   "source": [
    "**Attempt to do some extracting**"
   ]
  },
  {
   "cell_type": "code",
   "execution_count": 46,
   "metadata": {
    "collapsed": true
   },
   "outputs": [],
   "source": [
    "def extract_and_delete(tar_location, orig_path, delete=True, dest='../data/test_archives_contents/dir1'):\n",
    "    \"\"\"Open the tar file at the given location, extract it's contents, and delete it if indicated.\"\"\"\n",
    "    extracted = []\n",
    "    with tarfile.TarFile(tar_location) as tarry:\n",
    "        sep = '__' if '__' in tar_location else '/'\n",
    "        tar_name = tar_location.split(sep)[-1].split('.')[0]\n",
    "        \n",
    "        for name, child in zip(tarry.getnames(), tarry.getmembers()):      \n",
    "            new_filename = '{}/{}__{}__{}'.format(dest, orig_path.split('/')[-1], \n",
    "                                                tar_name, sub('/', '__', name))\n",
    "            child_object = tarfile.ExFileObject(tarry, child).read()\n",
    "            \n",
    "            if search('\\.tar$', name): # lazily assume all tar files end in .tar\n",
    "                with open(new_filename, \"wb\") as fout:\n",
    "                    fout.write(child_object)\n",
    "                extracted.extend(extract_and_delete(new_filename, '{}/{}'.format(orig_path, tar_name), dest=dest))\n",
    "            elif child.isfile():\n",
    "                with open(new_filename, \"wb\") as fout:\n",
    "                    fout.write(child_object)\n",
    "                extracted.append('{}/{}/{}'.format(orig_path, tar_location.split(sep)[-1], name))\n",
    "            #elif child.isdir():\n",
    "            #    shutil.copyfileobj(child_object, new_filename)\n",
    "            #    with open(new_filename, \"wb\") as fout:\n",
    "            #        fout.write(child_object)\n",
    "            #    extracted.extend(process_directory(new_filename, '{}/{}'.format(orig_path, tar_name), dest=dest))\n",
    "                \n",
    "    if delete:\n",
    "        remove(tar_location)\n",
    "        \n",
    "    return extracted"
   ]
  },
  {
   "cell_type": "code",
   "execution_count": 47,
   "metadata": {},
   "outputs": [
    {
     "data": {
      "text/plain": [
       "['/test3/test2b/test2/test1.tar/test1.txt',\n",
       " '/test3/test2b/test2.tar/test2.txt',\n",
       " '/test3.tar/test3.txt']"
      ]
     },
     "execution_count": 47,
     "metadata": {},
     "output_type": "execute_result"
    }
   ],
   "source": [
    "extract_and_delete('../data/test_archives/test3.tar', '', False)"
   ]
  },
  {
   "cell_type": "code",
   "execution_count": 25,
   "metadata": {
    "collapsed": true
   },
   "outputs": [],
   "source": [
    "def process_directory(dir_location, orig_path, delete=True, dest='../data/test_archives_contents/dir2'):\n",
    "    extracted = []\n",
    "    # call this on all of it's tar children\n",
    "    for name in listdir(dir_location):\n",
    "        new_filename = '{}/{}__{}__{}'.format(dest, orig_path.split('/')[-1], \n",
    "                                            dir_location.split('/')[-1], name)\n",
    "\n",
    "        if path.isdir('{}/{}'.format(dir_location, name)):\n",
    "            extracted.extend(process_directory('{}/{}'.format(dir_location, name), dir_location, dest=dest))\n",
    "        elif child.isfile():\n",
    "            with tarfile.TarFile(name) as tarry:\n",
    "                if tarry.is_tarfile():\n",
    "                    extracted.extend(extract_and_delete('{}/{}'.format(dir_location, name), \n",
    "                                                        dir_location), dest=dest)\n",
    "                else:\n",
    "                    with open(new_filename, \"wb\") as fout:\n",
    "                        with open('{}/{}'.format(dir_location, name), 'r') as r:\n",
    "                            fout.write(r.read())\n",
    "                    extracted.append('{}/{}/{}'.format(orig_path, dir_location, name))\n",
    "                \n",
    "    if delete:\n",
    "        remove(dir_location)\n",
    "        \n",
    "    return extracted"
   ]
  },
  {
   "cell_type": "code",
   "execution_count": 48,
   "metadata": {},
   "outputs": [
    {
     "data": {
      "text/plain": [
       "['/test3_dir/test2.tar/test 2/test2.txt',\n",
       " '/test3_dir/test2/test1.tar/test1.txt',\n",
       " '/test3_dir.tar/test3.txt']"
      ]
     },
     "execution_count": 48,
     "metadata": {},
     "output_type": "execute_result"
    }
   ],
   "source": [
    "extract_and_delete('../data/test_archives/test3_dir.tar', '', False, '../data/test_archives_contents/dir2')"
   ]
  },
  {
   "cell_type": "code",
   "execution_count": null,
   "metadata": {
    "collapsed": true
   },
   "outputs": [],
   "source": []
  }
 ],
 "metadata": {
  "hide_input": false,
  "kernelspec": {
   "display_name": "Python 3",
   "language": "python",
   "name": "python3"
  },
  "language_info": {
   "codemirror_mode": {
    "name": "ipython",
    "version": 3
   },
   "file_extension": ".py",
   "mimetype": "text/x-python",
   "name": "python",
   "nbconvert_exporter": "python",
   "pygments_lexer": "ipython3",
   "version": "3.5.4"
  }
 },
 "nbformat": 4,
 "nbformat_minor": 2
}
