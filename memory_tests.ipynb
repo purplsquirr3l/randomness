{
 "cells": [
  {
   "cell_type": "markdown",
   "metadata": {},
   "source": [
    "# Memory tests\n",
    "\n",
    "In this notebook, we'll do a simple comparison of the amount of memory taken up by different Python objects.\n",
    "\n",
    "We'll start by getting things set up and defining a custom object."
   ]
  },
  {
   "cell_type": "code",
   "execution_count": 1,
   "metadata": {},
   "outputs": [],
   "source": [
    "from sys import getsizeof\n",
    "import json\n",
    "from pandas import DataFrame"
   ]
  },
  {
   "cell_type": "code",
   "execution_count": 2,
   "metadata": {},
   "outputs": [],
   "source": [
    "def get_size(obj, seen=None):\n",
    "    # From https://goshippo.com/blog/measure-real-size-any-python-object/\n",
    "    # Recursively finds size of objects\n",
    "    size = getsizeof(obj)\n",
    "    if seen is None:\n",
    "        seen = set()\n",
    "    obj_id = id(obj)\n",
    "    if obj_id in seen:\n",
    "        return 0\n",
    "    # Important mark as seen *before* entering recursion to gracefully handle\n",
    "    # self-referential objects\n",
    "    seen.add(obj_id)\n",
    "    if isinstance(obj, dict):\n",
    "        size += sum([get_size(v, seen) for v in obj.values()])\n",
    "        size += sum([get_size(k, seen) for k in obj.keys()])\n",
    "    elif hasattr(obj, '__dict__'):\n",
    "        size += get_size(obj.__dict__, seen)\n",
    "    elif hasattr(obj, '__iter__') and not isinstance(obj, (str, bytes, bytearray)):\n",
    "        size += sum([get_size(i, seen) for i in obj])\n",
    "    return size"
   ]
  },
  {
   "cell_type": "code",
   "execution_count": 5,
   "metadata": {},
   "outputs": [
    {
     "data": {
      "text/plain": [
       "(28, 28, 64, 100)"
      ]
     },
     "execution_count": 5,
     "metadata": {},
     "output_type": "execute_result"
    }
   ],
   "source": [
    "a = 3\n",
    "get_size(a), get_size(12), get_size([]), get_size([1])"
   ]
  },
  {
   "cell_type": "code",
   "execution_count": 27,
   "metadata": {},
   "outputs": [
    {
     "name": "stdout",
     "output_type": "stream",
     "text": [
      "<class 'dict'>\n",
      "{'a': 1, 'b': 1, 'c': 1, 'd': ['a']}\n",
      "<class 'str'>\n",
      "{\"a\": 1, \"b\": 1, \"c\": 1, \"d\": [\"a\"]}\n"
     ]
    },
    {
     "data": {
      "text/plain": [
       "(None, None)"
      ]
     },
     "execution_count": 27,
     "metadata": {},
     "output_type": "execute_result"
    }
   ],
   "source": [
    "class CustomItem(object):\n",
    "    __slots__ = ['a', 'b', 'c', 'd']\n",
    "    def __init__(self, a, b, c, d):\n",
    "        self.a = a\n",
    "        self.b = b\n",
    "        self.c = c\n",
    "        self.d = d\n",
    "        \n",
    "    def to_dict(self):\n",
    "        data = dict()\n",
    "        for var in self.__slots__:\n",
    "            data[var] = getattr(self, var)\n",
    "        return data\n",
    "    \n",
    "    def to_json_str(self):\n",
    "        return json.dumps(self.to_dict())\n",
    "    \n",
    "print(type(CustomItem(1, 1, 1, ['a']).to_dict())), print(CustomItem(1, 1, 1, ['a']).to_dict())\n",
    "print(type(CustomItem(1, 1, 1, ['a']).to_json_str())), print(CustomItem(1, 1, 1, ['a']).to_json_str())"
   ]
  },
  {
   "cell_type": "code",
   "execution_count": 31,
   "metadata": {},
   "outputs": [
    {
     "name": "stdout",
     "output_type": "stream",
     "text": [
      "{'{\"a\": 1, \"b\": 1, \"c\": 1, \"d\": [\"a\"]}'}\n",
      "{'{\"a\": 1, \"b\": 1, \"c\": 1, \"d\": [\"b\"]}', '{\"a\": 1, \"b\": 1, \"c\": 1, \"d\": [\"a\"]}'}\n",
      "{'{\"a\": 1, \"b\": 1, \"c\": 2, \"d\": [\"a\"]}', '{\"a\": 1, \"b\": 1, \"c\": 1, \"d\": [\"a\"]}'}\n"
     ]
    }
   ],
   "source": [
    "print(set([CustomItem(1, 1, 1, ['a']).to_json_str(), CustomItem(1, 1, 1, ['a']).to_json_str()]))\n",
    "print(set([CustomItem(1, 1, 1, ['a']).to_json_str(), CustomItem(1, 1, 1, ['b']).to_json_str()]))\n",
    "print(set([CustomItem(1, 1, 1, ['a']).to_json_str(), CustomItem(1, 1, 2, ['a']).to_json_str()]))"
   ]
  },
  {
   "cell_type": "markdown",
   "metadata": {},
   "source": [
    "## Commence the tests"
   ]
  },
  {
   "cell_type": "code",
   "execution_count": 38,
   "metadata": {},
   "outputs": [
    {
     "name": "stdout",
     "output_type": "stream",
     "text": [
      "empty DataFrame size: 795\n",
      "DataFrame with two columns and one row: 4,097\n",
      "DataFrame with two rows and one column: 3,287\n",
      "DataFrame with 10,000 rows and one column: 443,007\n"
     ]
    }
   ],
   "source": [
    "print('empty DataFrame size: {:,}'.format(get_size(DataFrame())))\n",
    "print('DataFrame with two columns and one row: {:,}'.format(get_size(DataFrame({'a': [1], 'b': ['a']}))))\n",
    "print('DataFrame with two rows and one column: {:,}'.format(get_size(DataFrame({'a': [1, 'r']}))))\n",
    "print('DataFrame with 10,000 rows and one column: {:,}'.format(get_size(DataFrame({'a': list(range(10000))}))))"
   ]
  },
  {
   "cell_type": "code",
   "execution_count": 6,
   "metadata": {},
   "outputs": [
    {
     "name": "stdout",
     "output_type": "stream",
     "text": [
      "Sizes of lists of integers\n",
      "Num elements: 100\tSize: 3,708\n",
      "Num elements: 10,000\tSize: 367,620\n",
      "Num elements: 50,000\tSize: 1,806,492\n",
      "Num elements: 100,000\tSize: 3,624,460\n"
     ]
    }
   ],
   "source": [
    "list_sizes = [100, 10000, 50000, 100000]\n",
    "print('Sizes of lists of integers')\n",
    "for size in list_sizes:\n",
    "    holder = []\n",
    "    for i in range(size):\n",
    "        holder.append(i)\n",
    "    print('Num elements: {:,}\\tSize: {:,}'.format(size, get_size(holder)))"
   ]
  },
  {
   "cell_type": "code",
   "execution_count": 8,
   "metadata": {},
   "outputs": [
    {
     "name": "stdout",
     "output_type": "stream",
     "text": [
      "Sizes of lists of empty lists\n",
      "Num elements: 100\tSize: 7,312\n",
      "Num elements: 10,000\tSize: 727,624\n",
      "Num elements: 50,000\tSize: 3,606,496\n",
      "Num elements: 100,000\tSize: 7,224,464\n",
      "\n",
      "Sizes of lists of lists with a single element\n",
      "Num elements: 100\tSize: 10,908\n",
      "Num elements: 10,000\tSize: 1,087,620\n",
      "Num elements: 50,000\tSize: 5,406,492\n",
      "Num elements: 100,000\tSize: 10,824,460\n"
     ]
    }
   ],
   "source": [
    "print('Sizes of lists of empty lists')\n",
    "for size in list_sizes:\n",
    "    holder = []\n",
    "    for i in range(size):\n",
    "        holder.append([])\n",
    "    print('Num elements: {:,}\\tSize: {:,}'.format(size, get_size(holder)))\n",
    "    \n",
    "print('\\nSizes of lists of lists with a single element')\n",
    "for size in list_sizes:\n",
    "    holder = []\n",
    "    for i in range(size):\n",
    "        holder.append([i])\n",
    "    print('Num elements: {:,}\\tSize: {:,}'.format(size, get_size(holder)))"
   ]
  },
  {
   "cell_type": "code",
   "execution_count": 33,
   "metadata": {},
   "outputs": [
    {
     "name": "stdout",
     "output_type": "stream",
     "text": [
      "Sizes of lists of empty sets\n",
      "Num elements: 100\tSize: 23,312\n",
      "Num elements: 10,000\tSize: 2,327,624\n",
      "Num elements: 50,000\tSize: 11,606,496\n",
      "Num elements: 100,000\tSize: 23,224,464\n",
      "\n",
      "Sizes of lists of sets with a single element\n",
      "Num elements: 100\tSize: 26,108\n",
      "Num elements: 10,000\tSize: 2,607,620\n",
      "Num elements: 50,000\tSize: 13,006,492\n",
      "Num elements: 100,000\tSize: 26,024,460\n"
     ]
    }
   ],
   "source": [
    "print('Sizes of lists of empty sets')\n",
    "for size in list_sizes:\n",
    "    holder = []\n",
    "    for i in range(size):\n",
    "        holder.append(set())\n",
    "    print('Num elements: {:,}\\tSize: {:,}'.format(size, get_size(holder)))\n",
    "    \n",
    "print('\\nSizes of lists of sets with a single element')\n",
    "for size in list_sizes:\n",
    "    holder = []\n",
    "    for i in range(size):\n",
    "        holder.append(set([i]))\n",
    "    print('Num elements: {:,}\\tSize: {:,}'.format(size, get_size(holder)))"
   ]
  },
  {
   "cell_type": "code",
   "execution_count": 10,
   "metadata": {
    "scrolled": true
   },
   "outputs": [
    {
     "name": "stdout",
     "output_type": "stream",
     "text": [
      "Sizes of lists of empty dictionaries\n",
      "Num elements: 100\tSize: 24,912\n",
      "Num elements: 10,000\tSize: 2,487,624\n",
      "Num elements: 50,000\tSize: 12,406,496\n",
      "Num elements: 100,000\tSize: 24,824,464\n",
      "\n",
      "Sizes of lists of dictionaries with one element\n",
      "Num elements: 100\tSize: 27,758\n",
      "Num elements: 10,000\tSize: 2,767,670\n",
      "Num elements: 50,000\tSize: 13,806,542\n",
      "Num elements: 100,000\tSize: 27,624,510\n"
     ]
    }
   ],
   "source": [
    "print('Sizes of lists of empty dictionaries')\n",
    "for size in list_sizes:\n",
    "    holder = []\n",
    "    for i in range(size):\n",
    "        holder.append({})\n",
    "    print('Num elements: {:,}\\tSize: {:,}'.format(size, get_size(holder)))\n",
    "    \n",
    "print('\\nSizes of lists of dictionaries with one element')\n",
    "for size in list_sizes:\n",
    "    holder = []\n",
    "    for i in range(size):\n",
    "        holder.append({'a': i})\n",
    "    print('Num elements: {:,}\\tSize: {:,}'.format(size, get_size(holder)))"
   ]
  },
  {
   "cell_type": "code",
   "execution_count": 12,
   "metadata": {},
   "outputs": [
    {
     "name": "stdout",
     "output_type": "stream",
     "text": [
      "Sizes of lists of dictionaries with four elements\n",
      "Num elements: 100\tSize: 35,108\n",
      "Num elements: 10,000\tSize: 3,487,820\n",
      "Num elements: 50,000\tSize: 17,406,692\n",
      "Num elements: 100,000\tSize: 34,824,660\n",
      "\n",
      "Sizes of lists of CustomItems\n",
      "Num elements: 100\tSize: 8,112\n",
      "Num elements: 10,000\tSize: 807,624\n",
      "Num elements: 50,000\tSize: 4,006,496\n",
      "Num elements: 100,000\tSize: 8,024,464\n"
     ]
    }
   ],
   "source": [
    "print('Sizes of lists of dictionaries with four elements')\n",
    "for size in list_sizes:\n",
    "    holder = []\n",
    "    for i in range(size):\n",
    "        holder.append({'a': i, 'b': i, 'c': i, 'd': [i]})\n",
    "    print('Num elements: {:,}\\tSize: {:,}'.format(size, get_size(holder)))\n",
    "    \n",
    "print('\\nSizes of lists of CustomItems')\n",
    "for size in list_sizes:\n",
    "    holder = []\n",
    "    for i in range(size):\n",
    "        holder.append(CustomItem(i, i, i, [i]))\n",
    "    print('Num elements: {:,}\\tSize: {:,}'.format(size, get_size(holder)))"
   ]
  },
  {
   "cell_type": "markdown",
   "metadata": {},
   "source": [
    "That's a remarkable difference. The lists of CustomItems are just slightly bigger than the lists of empty lists!"
   ]
  },
  {
   "cell_type": "code",
   "execution_count": null,
   "metadata": {},
   "outputs": [],
   "source": []
  }
 ],
 "metadata": {
  "hide_input": false,
  "kernelspec": {
   "display_name": "Python 3",
   "language": "python",
   "name": "python3"
  },
  "language_info": {
   "codemirror_mode": {
    "name": "ipython",
    "version": 3
   },
   "file_extension": ".py",
   "mimetype": "text/x-python",
   "name": "python",
   "nbconvert_exporter": "python",
   "pygments_lexer": "ipython3",
   "version": "3.6.9"
  }
 },
 "nbformat": 4,
 "nbformat_minor": 2
}
